{
 "cells": [
  {
   "cell_type": "markdown",
   "id": "adae6f14-557e-4832-a221-5c3ca2105df0",
   "metadata": {},
   "source": [
    "Data Science Tools and Ecosystem"
   ]
  },
  {
   "cell_type": "markdown",
   "id": "dbe84267-9997-415b-a351-f366a34ce8a4",
   "metadata": {},
   "source": [
    "In this notebook, Data Science Tools and Ecosystem are summarized."
   ]
  },
  {
   "cell_type": "markdown",
   "id": "17de4396-de44-45e9-9e72-c99c04d7e999",
   "metadata": {},
   "source": [
    "**Objectives:**\n",
    "\n",
    "- List popular languages for Data Science\n",
    "- Demonstrate the use of arithmetic expressions in Python\n",
    "- Convert units (e.g., minutes to hours) using Python\n",
    "- Introduce common libraries for data science\n",
    "- Create and manipulate markdown cells in Jupyter Notebooks"
   ]
  },
  {
   "cell_type": "markdown",
   "id": "856c153c-f8aa-4f1c-a830-976961b2a259",
   "metadata": {},
   "source": [
    "Some of the popular languages that Data Scientists use are:\n",
    "\n",
    "1. Python\n",
    "2. R\n",
    "3. SQL"
   ]
  },
  {
   "cell_type": "markdown",
   "id": "edb7dd1d-5a8d-488a-81fa-01ddd8893c24",
   "metadata": {},
   "source": [
    "Some of the commonly used libraries used by Data Scientists include:\n",
    "\n",
    "1. Pandas\n",
    "2. NumPy\n",
    "3. Matplotlib\n",
    "4. Scikit-learn"
   ]
  },
  {
   "cell_type": "markdown",
   "id": "7c7917a0-e1ef-4633-a411-74916360d540",
   "metadata": {},
   "source": [
    "| Data Science Tools |\n",
    "|--------------------|\n",
    "| Jupyter Notebook   |\n",
    "| RStudio            |\n",
    "| Apache Zeppelin    |"
   ]
  },
  {
   "cell_type": "markdown",
   "id": "1da69f0b-f015-4966-957d-f76b51001307",
   "metadata": {},
   "source": [
    "### Below are a few examples of evaluating arithmetic expressions in Python"
   ]
  },
  {
   "cell_type": "code",
   "execution_count": 2,
   "id": "d3fc76c2-98ee-4aa1-8507-f9c91a5c77d1",
   "metadata": {},
   "outputs": [],
   "source": [
    "x = 10 + 5  # Addition\n",
    "y = 15 - 3  # Subtraction\n",
    "z = 4 * 2   # Multiplication\n",
    "a = 20 / 4  # Division"
   ]
  },
  {
   "cell_type": "code",
   "execution_count": 3,
   "id": "0e360363-6073-4b25-aefc-94d3ceaddb03",
   "metadata": {},
   "outputs": [
    {
     "data": {
      "text/plain": [
       "17"
      ]
     },
     "execution_count": 3,
     "metadata": {},
     "output_type": "execute_result"
    }
   ],
   "source": [
    "# This is a simple arithmetic expression to multiply then add integers\n",
    "result = (3 * 4) + 5\n",
    "result"
   ]
  },
  {
   "cell_type": "code",
   "execution_count": 4,
   "id": "b6aac4b9-b328-46f1-9559-c72c910f8682",
   "metadata": {},
   "outputs": [
    {
     "data": {
      "text/plain": [
       "3.3333333333333335"
      ]
     },
     "execution_count": 4,
     "metadata": {},
     "output_type": "execute_result"
    }
   ],
   "source": [
    "# This will convert 200 minutes to hours by dividing by 60\n",
    "minutes = 200\n",
    "hours = minutes / 60\n",
    "hours"
   ]
  },
  {
   "cell_type": "markdown",
   "id": "32b8f5ec-2853-4a6c-88c4-c502134b5a70",
   "metadata": {},
   "source": [
    "## Author\n",
    "PRIYA DHARSHINI.D"
   ]
  },
  {
   "cell_type": "code",
   "execution_count": null,
   "id": "c7dcb20b-6a53-4cc0-92d3-7a360603ed74",
   "metadata": {},
   "outputs": [],
   "source": []
  }
 ],
 "metadata": {
  "kernelspec": {
   "display_name": "Python 3 (ipykernel)",
   "language": "python",
   "name": "python3"
  },
  "language_info": {
   "codemirror_mode": {
    "name": "ipython",
    "version": 3
   },
   "file_extension": ".py",
   "mimetype": "text/x-python",
   "name": "python",
   "nbconvert_exporter": "python",
   "pygments_lexer": "ipython3",
   "version": "3.10.11"
  }
 },
 "nbformat": 4,
 "nbformat_minor": 5
}
